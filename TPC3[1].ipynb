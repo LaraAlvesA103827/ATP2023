{
 "cells": [
  {
   "cell_type": "code",
   "execution_count": 25,
   "metadata": {},
   "outputs": [
    {
     "name": "stdout",
     "output_type": "stream",
     "text": [
      "1-Queres adivinhar um número ou 2-que eu adivinhe o teu?\n",
      "maior que 30\n",
      "maior que 50\n",
      "maior que 60\n",
      "maior que 80\n",
      "maior que 90\n",
      "maior que 95\n",
      "maior que 98\n",
      "Acertou em  8 tentativas!\n"
     ]
    }
   ],
   "source": [
    "print(\"1-Queres adivinhar um número ou 2-que eu adivinhe o teu?\")\n",
    "modo=int(input(\"1 ou 2?\"))\n",
    "if modo ==(1):\n",
    "    import random\n",
    "    d = random.randrange(1,100)\n",
    "    t = 1\n",
    "    x = int(input(\"Diga um número\"))\n",
    "    while d!=x:\n",
    "        t = t + 1\n",
    "        if d>x:\n",
    "            print(\"maior que \" + str(x),flush=True)\n",
    "        else:\n",
    "            print(\"menor que \" + str(x),flush=True)\n",
    "        x =  int(input(\"Diga um número\"))        \n",
    "        \n",
    "    print(\"Acertou em \", t , \"tentativas!\")\n",
    "    \n",
    "\n",
    "\n",
    "if modo == (2):\n",
    "    sup = 100\n",
    "    inf = 0\n",
    "    x = 0\n",
    "    n = 0\n",
    "    pergunta=str()\n",
    "    acertou = str(\"acertou\")\n",
    "    while pergunta!=str(acertou):\n",
    "        n = n + 1\n",
    "        x = int((sup + inf) / 2)\n",
    "        pergunta = input(\"O seu número é \" + str(x)+\"?\")\n",
    "        if pergunta == \"maior\":\n",
    "            inf = x\n",
    "        else:\n",
    "            sup = x\n",
    "    print(\"Acertei o número em \" + str(n) + \" tentativas\")\n",
    "   \n",
    "\n",
    "\n",
    "\n",
    "\n",
    "\n",
    "\n"
   ]
  }
 ],
 "metadata": {
  "kernelspec": {
   "display_name": "Python 3",
   "language": "python",
   "name": "python3"
  },
  "language_info": {
   "codemirror_mode": {
    "name": "ipython",
    "version": 3
   },
   "file_extension": ".py",
   "mimetype": "text/x-python",
   "name": "python",
   "nbconvert_exporter": "python",
   "pygments_lexer": "ipython3",
   "version": "3.11.5"
  },
  "orig_nbformat": 4
 },
 "nbformat": 4,
 "nbformat_minor": 2
}
